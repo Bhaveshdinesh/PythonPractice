{
 "cells": [
  {
   "cell_type": "markdown",
   "id": "f4706414",
   "metadata": {},
   "source": [
    "# Rock Paper Scissors\n",
    "Make a two-player Rock-Paper-Scissors game. (Hint: Ask for player plays (using input), compare them, print out a message of congratulations to the winner, and ask if the players want to start a new game)\n",
    "\n",
    "Remember the rules:\n",
    "\n",
    "@Rock beats scissors\n",
    "\n",
    "@Scissors beats paper\n",
    "\n",
    "@Paper beats rock"
   ]
  },
  {
   "cell_type": "code",
   "execution_count": 1,
   "id": "8ff1ba2e",
   "metadata": {},
   "outputs": [
    {
     "name": "stdout",
     "output_type": "stream",
     "text": [
      "enter text: rock\n",
      "enter text: paper\n",
      "paper wins!,Congradulations to player2\n"
     ]
    }
   ],
   "source": [
    "player1 = input(\"enter text: \")\n",
    "player2 = input(\"enter text: \")\n",
    "\n",
    "if player1==player2:\n",
    "    print(\"It's tie!\")\n",
    "elif player1==\"rock\" and player2==\"scissors\":\n",
    "    print(\"rock wins!,Congradulations to player1\")\n",
    "elif player1==\"scissors\" and player2==\"rock\":\n",
    "    print(\"rock wins!,Congradulations to player2\")\n",
    "elif player1==\"rock\" and player2==\"paper\":\n",
    "    print(\"paper wins!,Congradulations to player2\")    \n",
    "elif player1==\"paper\" and player2==\"rock\":\n",
    "    print(\"paper wins!,Congradulations to player1\")\n",
    "elif player1==\"scissors\" and player2==\"paper\":\n",
    "    print(\"scissors wins!,Congradulations to player1\")\n",
    "elif player1==\"paper\" and player2==\"scissors\":\n",
    "    print(\"scissors wins!,Congradulations to player2\")\n",
    "else:\n",
    "    print(\"start new game\")"
   ]
  },
  {
   "cell_type": "code",
   "execution_count": null,
   "id": "b4fa6661",
   "metadata": {},
   "outputs": [],
   "source": []
  }
 ],
 "metadata": {
  "kernelspec": {
   "display_name": "Python 3 (ipykernel)",
   "language": "python",
   "name": "python3"
  },
  "language_info": {
   "codemirror_mode": {
    "name": "ipython",
    "version": 3
   },
   "file_extension": ".py",
   "mimetype": "text/x-python",
   "name": "python",
   "nbconvert_exporter": "python",
   "pygments_lexer": "ipython3",
   "version": "3.9.12"
  }
 },
 "nbformat": 4,
 "nbformat_minor": 5
}
