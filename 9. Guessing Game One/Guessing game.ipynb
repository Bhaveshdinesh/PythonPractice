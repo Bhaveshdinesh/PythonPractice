{
 "cells": [
  {
   "cell_type": "markdown",
   "id": "fbd2374d",
   "metadata": {},
   "source": [
    "# Guessing Game One\n",
    "Generate a random number between 1 and 9 (including 1 and 9). Ask the user to guess the number, then tell them whether they guessed too low, too high, or exactly right."
   ]
  },
  {
   "cell_type": "code",
   "execution_count": 10,
   "id": "f9a8e2fe",
   "metadata": {},
   "outputs": [
    {
     "name": "stdout",
     "output_type": "stream",
     "text": [
      "8\n",
      "Enter your guess no: 7\n",
      "guessed number is Low\n"
     ]
    }
   ],
   "source": [
    "import random\n",
    "a = random.randint(1,9)\n",
    "print(a)\n",
    "guess = input(\"Enter your guess no: \")\n",
    "if guess==\"exit\":\n",
    "    print(\"Exit!\")\n",
    "elif int(guess) > a:\n",
    "    print(\"guessed number is High\")\n",
    "elif int(guess) < a:\n",
    "    print(\"guessed number is Low\")\n",
    "else:\n",
    "    print(\"Exactly right!\")\n"
   ]
  },
  {
   "cell_type": "code",
   "execution_count": null,
   "id": "5f4b3969",
   "metadata": {},
   "outputs": [],
   "source": []
  }
 ],
 "metadata": {
  "kernelspec": {
   "display_name": "Python 3 (ipykernel)",
   "language": "python",
   "name": "python3"
  },
  "language_info": {
   "codemirror_mode": {
    "name": "ipython",
    "version": 3
   },
   "file_extension": ".py",
   "mimetype": "text/x-python",
   "name": "python",
   "nbconvert_exporter": "python",
   "pygments_lexer": "ipython3",
   "version": "3.9.12"
  }
 },
 "nbformat": 4,
 "nbformat_minor": 5
}
