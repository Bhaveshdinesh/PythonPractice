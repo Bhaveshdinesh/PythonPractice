{
 "cells": [
  {
   "cell_type": "markdown",
   "id": "9d221fc1",
   "metadata": {},
   "source": [
    "## 2.Odd Or Even\n",
    "Ask the user for a number. Depending on whether the number is even or odd, print out an appropriate message to the user. "
   ]
  },
  {
   "cell_type": "code",
   "execution_count": 1,
   "id": "0f6cb203",
   "metadata": {},
   "outputs": [
    {
     "name": "stdout",
     "output_type": "stream",
     "text": [
      "Enter Number: 26\n",
      "26, is Even number\n"
     ]
    }
   ],
   "source": [
    "number = input(\"Enter Number: \")\n",
    "if int(number) % 4 == 0:\n",
    "    print(number + ', number is multiple of 4')\n",
    "elif int(number) % 2 == 0:\n",
    "    print(number + \", is Even number\")\n",
    "else:\n",
    "    print(number + \", is odd number\")"
   ]
  },
  {
   "cell_type": "code",
   "execution_count": null,
   "id": "b7afb6e8",
   "metadata": {},
   "outputs": [],
   "source": []
  }
 ],
 "metadata": {
  "kernelspec": {
   "display_name": "Python 3 (ipykernel)",
   "language": "python",
   "name": "python3"
  },
  "language_info": {
   "codemirror_mode": {
    "name": "ipython",
    "version": 3
   },
   "file_extension": ".py",
   "mimetype": "text/x-python",
   "name": "python",
   "nbconvert_exporter": "python",
   "pygments_lexer": "ipython3",
   "version": "3.9.12"
  }
 },
 "nbformat": 4,
 "nbformat_minor": 5
}
