{
 "cells": [
  {
   "cell_type": "markdown",
   "id": "31d1a4e1",
   "metadata": {},
   "source": [
    "# List Overlap\n",
    "Take two lists,write a program that returns a list that contains only the elements that are common between the lists (without duplicates). Make sure your program works on two lists of different sizes."
   ]
  },
  {
   "cell_type": "code",
   "execution_count": 7,
   "id": "5c5d5c0b",
   "metadata": {},
   "outputs": [
    {
     "name": "stdout",
     "output_type": "stream",
     "text": [
      "[1, 2, 3, 5, 8, 13]\n",
      "time taken: 1660130760.3135996 1660130760.3126016\n"
     ]
    }
   ],
   "source": [
    "import time\n",
    "\n",
    "start = time.time()\n",
    "a = [1, 1, 2, 3, 5, 8, 13, 21, 34, 55, 89]\n",
    "b = [1, 2, 3, 4, 5,5, 6, 7, 8, 9, 10, 11, 12, 13]\n",
    "c = []\n",
    "for x in a:\n",
    "    if x in b and x not in c:\n",
    "        c.append(x)\n",
    "# print([x for x in a if x in b])\n",
    "print(c)\n",
    "end = time.time()\n",
    "\n",
    "print(\"time taken:\",end, start)"
   ]
  },
  {
   "cell_type": "code",
   "execution_count": 8,
   "id": "167b2161",
   "metadata": {},
   "outputs": [
    {
     "name": "stdout",
     "output_type": "stream",
     "text": [
      "[1, 2, 3, 5, 8, 13]\n",
      "time taken: 1660130763.794712 1660130763.7933846\n"
     ]
    }
   ],
   "source": [
    "import time\n",
    "\n",
    "start = time.time()\n",
    "a = [1, 1, 2, 3, 5, 8, 13, 21, 34, 55, 89]\n",
    "b = [1, 2, 3, 4, 5,5, 6, 7, 8, 9, 10, 11, 12, 13]\n",
    "c = list(set(a).intersection(set(b)))\n",
    "print(c)\n",
    "end = time.time()\n",
    "\n",
    "print(\"time taken:\",end,start)"
   ]
  },
  {
   "cell_type": "code",
   "execution_count": 9,
   "id": "460e4ac7",
   "metadata": {},
   "outputs": [
    {
     "name": "stdout",
     "output_type": "stream",
     "text": [
      "[1, 1, 2, 3, 5, 8, 13]\n"
     ]
    }
   ],
   "source": [
    "# With duplicates\n",
    "a = [1, 1, 2, 3, 5, 8, 13, 21, 34, 55, 89]\n",
    "b = [1, 2, 3, 4, 5,5, 6, 7, 8, 9, 10, 11, 12, 13]\n",
    "print([x for x in a if x in b])\n"
   ]
  },
  {
   "cell_type": "code",
   "execution_count": null,
   "id": "8539a5c3",
   "metadata": {},
   "outputs": [],
   "source": []
  }
 ],
 "metadata": {
  "kernelspec": {
   "display_name": "Python 3 (ipykernel)",
   "language": "python",
   "name": "python3"
  },
  "language_info": {
   "codemirror_mode": {
    "name": "ipython",
    "version": 3
   },
   "file_extension": ".py",
   "mimetype": "text/x-python",
   "name": "python",
   "nbconvert_exporter": "python",
   "pygments_lexer": "ipython3",
   "version": "3.9.12"
  }
 },
 "nbformat": 4,
 "nbformat_minor": 5
}
