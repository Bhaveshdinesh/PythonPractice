{
 "cells": [
  {
   "cell_type": "markdown",
   "id": "62c9498e",
   "metadata": {},
   "source": [
    "# String Lists\n",
    "Ask the user for a string and print out whether this string is a palindrome or not. (A palindrome is a string that reads the same forwards and backwards.)"
   ]
  },
  {
   "cell_type": "code",
   "execution_count": 1,
   "id": "208c2a44",
   "metadata": {},
   "outputs": [
    {
     "name": "stdout",
     "output_type": "stream",
     "text": [
      "Enter the string: catac\n",
      "catac, is palindrome\n"
     ]
    }
   ],
   "source": [
    "word = input(\"Enter the string: \")\n",
    "fwd = word\n",
    "#print(fwd)\n",
    "rvs = word[::-1]\n",
    "#print(rvs)\n",
    "\n",
    "if fwd == rvs:\n",
    "    print(word+\", is palindrome\")\n",
    "else:\n",
    "    print(word+\", is not palindrome\")"
   ]
  },
  {
   "cell_type": "code",
   "execution_count": null,
   "id": "d030bd2c",
   "metadata": {},
   "outputs": [],
   "source": []
  }
 ],
 "metadata": {
  "kernelspec": {
   "display_name": "Python 3 (ipykernel)",
   "language": "python",
   "name": "python3"
  },
  "language_info": {
   "codemirror_mode": {
    "name": "ipython",
    "version": 3
   },
   "file_extension": ".py",
   "mimetype": "text/x-python",
   "name": "python",
   "nbconvert_exporter": "python",
   "pygments_lexer": "ipython3",
   "version": "3.9.12"
  }
 },
 "nbformat": 4,
 "nbformat_minor": 5
}
