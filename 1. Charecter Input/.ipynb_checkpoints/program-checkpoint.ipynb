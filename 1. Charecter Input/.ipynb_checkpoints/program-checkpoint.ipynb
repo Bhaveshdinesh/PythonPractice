{
 "cells": [
  {
   "cell_type": "markdown",
   "id": "8f1b18ad",
   "metadata": {},
   "source": [
    "# 1. Character Input\n",
    "\n",
    "<i>Create a program that asks the user to enter their name and their age. Print out a message addressed to them that tells them the year that they will turn 100 years old.</i>"
   ]
  },
  {
   "cell_type": "code",
   "execution_count": 1,
   "id": "f677423c",
   "metadata": {},
   "outputs": [
    {
     "name": "stdout",
     "output_type": "stream",
     "text": [
      "Enter your Name: divya\n",
      "Enter your age: 29\n",
      "divya, you will be 100 years old in the year 2093\n"
     ]
    }
   ],
   "source": [
    "name = input(\"Enter your Name: \")\n",
    "age = int(input(\"Enter your age: \"))\n",
    "year = 2022 - age + 100\n",
    "print(name + \", you will be 100 years old in the year \" + str(year))"
   ]
  },
  {
   "cell_type": "code",
   "execution_count": null,
   "id": "e3ad223a",
   "metadata": {},
   "outputs": [],
   "source": []
  }
 ],
 "metadata": {
  "kernelspec": {
   "display_name": "Python 3 (ipykernel)",
   "language": "python",
   "name": "python3"
  },
  "language_info": {
   "codemirror_mode": {
    "name": "ipython",
    "version": 3
   },
   "file_extension": ".py",
   "mimetype": "text/x-python",
   "name": "python",
   "nbconvert_exporter": "python",
   "pygments_lexer": "ipython3",
   "version": "3.9.12"
  }
 },
 "nbformat": 4,
 "nbformat_minor": 5
}
