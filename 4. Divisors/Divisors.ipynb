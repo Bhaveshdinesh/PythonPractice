{
 "cells": [
  {
   "cell_type": "markdown",
   "id": "61dda1b2",
   "metadata": {},
   "source": [
    "# Divisors\n",
    "Create a program that asks the user for a number and then prints out a list of all the divisors of that number. (If you don’t know what a divisor is, it is a number that divides evenly into another number. For example, 13 is a divisor of 26 because 26 / 13 has no remainder.)"
   ]
  },
  {
   "cell_type": "code",
   "execution_count": 1,
   "id": "47a2b6bb",
   "metadata": {},
   "outputs": [
    {
     "name": "stdout",
     "output_type": "stream",
     "text": [
      "Please choose a number to divide: 34\n",
      "[1, 2, 17, 34]\n"
     ]
    }
   ],
   "source": [
    "num = int(input(\"Please choose a number to divide: \"))\n",
    "\n",
    "listRange = list(range(1,num+1))\n",
    "#print(listRange )\n",
    "divisorList = []\n",
    "\n",
    "for number in listRange:\n",
    "    if num % number == 0:\n",
    "        divisorList.append(number)\n",
    "\n",
    "print(divisorList)"
   ]
  },
  {
   "cell_type": "code",
   "execution_count": null,
   "id": "3627b90e",
   "metadata": {},
   "outputs": [],
   "source": []
  }
 ],
 "metadata": {
  "kernelspec": {
   "display_name": "Python 3 (ipykernel)",
   "language": "python",
   "name": "python3"
  },
  "language_info": {
   "codemirror_mode": {
    "name": "ipython",
    "version": 3
   },
   "file_extension": ".py",
   "mimetype": "text/x-python",
   "name": "python",
   "nbconvert_exporter": "python",
   "pygments_lexer": "ipython3",
   "version": "3.9.12"
  }
 },
 "nbformat": 4,
 "nbformat_minor": 5
}
