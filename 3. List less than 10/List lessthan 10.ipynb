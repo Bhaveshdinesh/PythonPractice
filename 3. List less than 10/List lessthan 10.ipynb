{
 "cells": [
  {
   "cell_type": "markdown",
   "id": "633a242e",
   "metadata": {},
   "source": [
    "# 3. List lessthan 10\n",
    "Take a list,write a program that prints out all the elements of the list that are less than 5."
   ]
  },
  {
   "cell_type": "code",
   "execution_count": null,
   "id": "e7de1ef8",
   "metadata": {},
   "outputs": [],
   "source": [
    "a = [1, 1, 2, 3, 5, 8, 13, 21, 34, 55, 89]\n",
    "for x in a:\n",
    "    if x< 5: print(x)             #displaying the values\n",
    "\n",
    "# making as new list        \n",
    "print([ element for element in a if element<5 ])\n",
    "print([y for y in a if y>5])\n",
    "print([z for z in a if z==5])\n"
   ]
  }
 ],
 "metadata": {
  "kernelspec": {
   "display_name": "Python 3 (ipykernel)",
   "language": "python",
   "name": "python3"
  },
  "language_info": {
   "codemirror_mode": {
    "name": "ipython",
    "version": 3
   },
   "file_extension": ".py",
   "mimetype": "text/x-python",
   "name": "python",
   "nbconvert_exporter": "python",
   "pygments_lexer": "ipython3",
   "version": "3.9.12"
  }
 },
 "nbformat": 4,
 "nbformat_minor": 5
}
